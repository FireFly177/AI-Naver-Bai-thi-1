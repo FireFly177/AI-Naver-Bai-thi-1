{
 "cells": [
  {
   "cell_type": "code",
   "execution_count": 1,
   "id": "557cdb46",
   "metadata": {},
   "outputs": [],
   "source": [
    "import pandas as pd\n",
    "import numpy as np"
   ]
  },
  {
   "cell_type": "code",
   "execution_count": 2,
   "id": "69d883e8",
   "metadata": {},
   "outputs": [],
   "source": [
    "test_data = pd.read_csv('test_Naver_noclass.csv')\n",
    "train_data = pd.read_csv('train_Naver.csv')\n",
    "\n",
    "df_test = test_data.copy()\n",
    "df_train = train_data.copy()"
   ]
  },
  {
   "cell_type": "code",
   "execution_count": 3,
   "id": "ad6c0f0a",
   "metadata": {},
   "outputs": [],
   "source": [
    "from sklearn.model_selection import train_test_split\n",
    "\n",
    "X_train, X_val, Y_train, Y_val = train_test_split(\n",
    "    df_train.iloc[:, :-1], df_train.iloc[:, -1], test_size=0.2, random_state=17\n",
    ")\n",
    "X_test = df_test"
   ]
  },
  {
   "cell_type": "code",
   "execution_count": 5,
   "id": "49da7e03",
   "metadata": {},
   "outputs": [],
   "source": [
    "from sklearn import neighbors\n",
    "from sklearn.metrics import confusion_matrix\n",
    "from sklearn.metrics import accuracy_score\n",
    "from sklearn.metrics import f1_score"
   ]
  },
  {
   "cell_type": "code",
   "execution_count": 6,
   "id": "669656fc",
   "metadata": {},
   "outputs": [
    {
     "name": "stdout",
     "output_type": "stream",
     "text": [
      "KNN accuracy:  0.875\n",
      "KNN f1 score:  0.8779220779220778\n",
      "KNN confusion matrix: \n",
      "[[14  2]\n",
      " [ 5 35]]\n"
     ]
    }
   ],
   "source": [
    "clf = neighbors.KNeighborsClassifier(n_neighbors=3, weights='distance', metric=\"cosine\")\n",
    "clf.fit(X_train, Y_train)\n",
    "Y_pred = clf.predict(X_val)\n",
    "\n",
    "print(\"KNN accuracy: \", accuracy_score(Y_val, Y_pred))\n",
    "print(\"KNN f1 score: \", f1_score(Y_val, Y_pred, average = \"weighted\"))\n",
    "print(\"KNN confusion matrix: \")\n",
    "print(confusion_matrix(Y_val, Y_pred))"
   ]
  },
  {
   "cell_type": "code",
   "execution_count": 7,
   "id": "9aa60ff3",
   "metadata": {},
   "outputs": [
    {
     "name": "stdout",
     "output_type": "stream",
     "text": [
      "LR classification accuracy 0.8571428571428571\n",
      "LR f1 score 0.8310708898944192\n",
      "LR classification confusion matrix: \n",
      "[[13  3]\n",
      " [ 5 35]]\n"
     ]
    }
   ],
   "source": [
    "from sklearn.linear_model import LogisticRegression\n",
    "\n",
    "regressor = LogisticRegression()\n",
    "regressor.fit(X_train, Y_train)\n",
    "\n",
    "pred = regressor.predict(X_val)\n",
    "print(\"LR classification accuracy\", accuracy_score(Y_val, pred))\n",
    "print(\"LR f1 score\", f1_score(Y_val, pred, average=\"macro\"))\n",
    "print(\"LR classification confusion matrix: \")\n",
    "print(confusion_matrix(Y_val, pred))"
   ]
  },
  {
   "cell_type": "code",
   "execution_count": 8,
   "id": "6603075d",
   "metadata": {},
   "outputs": [],
   "source": [
    "from sklearn.svm import SVC\n",
    "from sklearn.model_selection import GridSearchCV\n",
    "\n",
    "param_grid = {'C': np.linspace(0.1, 100, num=7),\n",
    "                'gamma': np.linspace(0.1, 10, num=7),\n",
    "                'kernel': ['rbf', 'linear', 'sigmoid'],\n",
    "             'degree': [2]}\n",
    "\n",
    "grid = GridSearchCV(SVC(), param_grid, refit = True, verbose = 3)\n",
    "\n",
    "# grid.fit(X_train, Y_train)"
   ]
  },
  {
   "cell_type": "code",
   "execution_count": 9,
   "id": "dc4b514f",
   "metadata": {},
   "outputs": [],
   "source": [
    "# print(grid.best_params_)\n",
    "# print(grid.best_estimator_)\n",
    "\n",
    "# print(\"SVM accuracy: \", accuracy_score(Y_val, grid.predict(X_val)))\n",
    "# print(\"SVM f1 score: \", f1_score(Y_val, grid.predict(X_val), average='weighted'))\n",
    "# print(\"SVM confusion matrix: \")\n",
    "# print(confusion_matrix(Y_val, grid.predict(X_val)))"
   ]
  },
  {
   "cell_type": "code",
   "execution_count": 10,
   "id": "4947e832",
   "metadata": {},
   "outputs": [],
   "source": [
    "from sklearn.ensemble import RandomForestClassifier  "
   ]
  },
  {
   "cell_type": "code",
   "execution_count": 11,
   "id": "6c850386",
   "metadata": {},
   "outputs": [
    {
     "name": "stdout",
     "output_type": "stream",
     "text": [
      "Fitting 3 folds for each of 18 candidates, totalling 54 fits\n"
     ]
    },
    {
     "name": "stderr",
     "output_type": "stream",
     "text": [
      "C:\\Users\\huong\\anaconda3\\lib\\site-packages\\sklearn\\model_selection\\_search.py:292: UserWarning: The total space of parameters 18 is smaller than n_iter=100. Running 18 iterations. For exhaustive searches, use GridSearchCV.\n",
      "  warnings.warn(\n"
     ]
    },
    {
     "data": {
      "text/plain": [
       "RandomizedSearchCV(cv=3, estimator=RandomForestClassifier(random_state=42),\n",
       "                   n_iter=100, n_jobs=-1,\n",
       "                   param_distributions={'max_features': ['auto', 'sqrt'],\n",
       "                                        'min_samples_split': [2, 5, 10],\n",
       "                                        'n_estimators': [100, 200, 300]},\n",
       "                   random_state=42, verbose=2)"
      ]
     },
     "execution_count": 11,
     "metadata": {},
     "output_type": "execute_result"
    }
   ],
   "source": [
    "from sklearn.model_selection import RandomizedSearchCV\n",
    "\n",
    "clf = RandomForestClassifier(n_estimators=100, random_state=42)\n",
    "\n",
    "n_estimators = [100,200,300]\n",
    "max_features = ['auto', 'sqrt']\n",
    "min_samples_split = [2, 5, 10]\n",
    "\n",
    "random_grid = {'n_estimators': n_estimators,\n",
    "                'max_features': max_features,\n",
    "                'min_samples_split': min_samples_split}\n",
    "\n",
    "rf_random = RandomizedSearchCV(estimator = clf, param_distributions = random_grid, n_iter = 100, cv = 3, verbose=2, random_state=42, n_jobs = -1)\n",
    "rf_random.fit(X_train, Y_train)"
   ]
  },
  {
   "cell_type": "code",
   "execution_count": 12,
   "id": "4da014a8",
   "metadata": {},
   "outputs": [
    {
     "name": "stdout",
     "output_type": "stream",
     "text": [
      "{'n_estimators': 300, 'min_samples_split': 2, 'max_features': 'auto'}\n",
      "RandomForestClassifier(n_estimators=300, random_state=42)\n",
      "RF accuracy:  0.8035714285714286\n",
      "RF f1 score:  0.801615747852307\n",
      "RF confusion matrix: \n",
      "[[10  6]\n",
      " [ 5 35]]\n"
     ]
    }
   ],
   "source": [
    "print(rf_random.best_params_)\n",
    "print(rf_random.best_estimator_)\n",
    "print(\"RF accuracy: \", accuracy_score(Y_val, rf_random.predict(X_val)))\n",
    "print(\"RF f1 score: \", f1_score(Y_val, rf_random.predict(X_val), average='weighted'))\n",
    "print(\"RF confusion matrix: \")\n",
    "print(confusion_matrix(Y_val, rf_random.predict(X_val)))"
   ]
  },
  {
   "cell_type": "code",
   "execution_count": 13,
   "id": "114e4f22",
   "metadata": {},
   "outputs": [],
   "source": [
    "pred = regressor.predict(X_test)\n",
    "final_res = pd.concat([test_data, pd.DataFrame(pred, columns=['class'])], axis=1)\n",
    "final_res.to_csv('test_Naver.csv')"
   ]
  }
 ],
 "metadata": {
  "kernelspec": {
   "display_name": "Python 3 (ipykernel)",
   "language": "python",
   "name": "python3"
  },
  "language_info": {
   "codemirror_mode": {
    "name": "ipython",
    "version": 3
   },
   "file_extension": ".py",
   "mimetype": "text/x-python",
   "name": "python",
   "nbconvert_exporter": "python",
   "pygments_lexer": "ipython3",
   "version": "3.9.13"
  }
 },
 "nbformat": 4,
 "nbformat_minor": 5
}
